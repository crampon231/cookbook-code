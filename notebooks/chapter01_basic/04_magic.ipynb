{
 "cells": [
  {
   "cell_type": "markdown",
   "metadata": {},
   "source": [
    "> This is one of the 100 recipes of the [IPython Cookbook](http://ipython-books.github.io/), the definitive guide to high-performance scientific computing and data science in Python.\n"
   ]
  },
  {
   "cell_type": "markdown",
   "metadata": {},
   "source": [
    "# 1.4. Creating an IPython extension with custom magic commands"
   ]
  },
  {
   "cell_type": "markdown",
   "metadata": {},
   "source": [
    "1. Let's import a few functions from the IPython magic system."
   ]
  },
  {
   "cell_type": "code",
   "execution_count": 1,
   "metadata": {
    "collapsed": false
   },
   "outputs": [],
   "source": [
    "from IPython.core.magic import (register_line_magic, \n",
    "                                register_cell_magic)"
   ]
  },
  {
   "cell_type": "markdown",
   "metadata": {},
   "source": [
    "2. Defining a new line magic is particularly simple. First, let's create a function that accepts the contents of the line (except the initial `%`-prefixed magic command). The name of this function is the name of the magic. Then, let's decorate this function with `@register_line_magic`. We're done!"
   ]
  },
  {
   "cell_type": "code",
   "execution_count": 2,
   "metadata": {
    "collapsed": false
   },
   "outputs": [],
   "source": [
    "@register_line_magic\n",
    "def hello(line):\n",
    "    if line == 'french':\n",
    "        print(\"Salut tout le monde!\")\n",
    "    else:\n",
    "        print(\"Hello world!\")"
   ]
  },
  {
   "cell_type": "code",
   "execution_count": 3,
   "metadata": {
    "collapsed": false
   },
   "outputs": [
    {
     "name": "stdout",
     "output_type": "stream",
     "text": [
      "Hello world!\n"
     ]
    }
   ],
   "source": [
    "%hello"
   ]
  },
  {
   "cell_type": "code",
   "execution_count": 4,
   "metadata": {
    "collapsed": false
   },
   "outputs": [
    {
     "name": "stdout",
     "output_type": "stream",
     "text": [
      "Salut tout le monde!\n"
     ]
    }
   ],
   "source": [
    "%hello french"
   ]
  },
  {
   "cell_type": "markdown",
   "metadata": {},
   "source": [
    "3. Let's create a slightly more useful cell magic `%%csv` that parses a CSV string and returns a Pandas DataFrame object. This time, the function takes as argument the first line (what follows `%%csv`), and the contents of the cell (everything in the cell except the first line)."
   ]
  },
  {
   "cell_type": "code",
   "execution_count": 5,
   "metadata": {
    "collapsed": false
   },
   "outputs": [],
   "source": [
    "import pandas as pd\n",
    "#from StringIO import StringIO  # Python 2\n",
    "from io import StringIO  # Python 3\n",
    "\n",
    "@register_cell_magic\n",
    "def csv(line, cell):\n",
    "    # We create a string buffer containing the\n",
    "    # contents of the cell.\n",
    "    sio = StringIO(cell)\n",
    "    # We use Pandas' read_csv function to parse\n",
    "    # the CSV string.\n",
    "    return pd.read_csv(sio)"
   ]
  },
  {
   "cell_type": "code",
   "execution_count": 6,
   "metadata": {
    "collapsed": false
   },
   "outputs": [
    {
     "data": {
      "text/html": [
       "<div>\n",
       "<table border=\"1\" class=\"dataframe\">\n",
       "  <thead>\n",
       "    <tr style=\"text-align: right;\">\n",
       "      <th></th>\n",
       "      <th>col1</th>\n",
       "      <th>col2</th>\n",
       "      <th>col3</th>\n",
       "    </tr>\n",
       "  </thead>\n",
       "  <tbody>\n",
       "    <tr>\n",
       "      <th>0</th>\n",
       "      <td>0</td>\n",
       "      <td>1</td>\n",
       "      <td>2</td>\n",
       "    </tr>\n",
       "    <tr>\n",
       "      <th>1</th>\n",
       "      <td>3</td>\n",
       "      <td>4</td>\n",
       "      <td>5</td>\n",
       "    </tr>\n",
       "    <tr>\n",
       "      <th>2</th>\n",
       "      <td>7</td>\n",
       "      <td>8</td>\n",
       "      <td>9</td>\n",
       "    </tr>\n",
       "  </tbody>\n",
       "</table>\n",
       "</div>"
      ],
      "text/plain": [
       "   col1  col2  col3\n",
       "0     0     1     2\n",
       "1     3     4     5\n",
       "2     7     8     9"
      ]
     },
     "execution_count": 6,
     "metadata": {},
     "output_type": "execute_result"
    }
   ],
   "source": [
    "%%csv\n",
    "col1,col2,col3\n",
    "0,1,2\n",
    "3,4,5\n",
    "7,8,9"
   ]
  },
  {
   "cell_type": "markdown",
   "metadata": {},
   "source": [
    "We can access the returned object with `_`."
   ]
  },
  {
   "cell_type": "code",
   "execution_count": 7,
   "metadata": {
    "collapsed": false
   },
   "outputs": [
    {
     "data": {
      "text/html": [
       "<div>\n",
       "<table border=\"1\" class=\"dataframe\">\n",
       "  <thead>\n",
       "    <tr style=\"text-align: right;\">\n",
       "      <th></th>\n",
       "      <th>col1</th>\n",
       "      <th>col2</th>\n",
       "      <th>col3</th>\n",
       "    </tr>\n",
       "  </thead>\n",
       "  <tbody>\n",
       "    <tr>\n",
       "      <th>count</th>\n",
       "      <td>3.000000</td>\n",
       "      <td>3.000000</td>\n",
       "      <td>3.000000</td>\n",
       "    </tr>\n",
       "    <tr>\n",
       "      <th>mean</th>\n",
       "      <td>3.333333</td>\n",
       "      <td>4.333333</td>\n",
       "      <td>5.333333</td>\n",
       "    </tr>\n",
       "    <tr>\n",
       "      <th>std</th>\n",
       "      <td>3.511885</td>\n",
       "      <td>3.511885</td>\n",
       "      <td>3.511885</td>\n",
       "    </tr>\n",
       "    <tr>\n",
       "      <th>min</th>\n",
       "      <td>0.000000</td>\n",
       "      <td>1.000000</td>\n",
       "      <td>2.000000</td>\n",
       "    </tr>\n",
       "    <tr>\n",
       "      <th>25%</th>\n",
       "      <td>1.500000</td>\n",
       "      <td>2.500000</td>\n",
       "      <td>3.500000</td>\n",
       "    </tr>\n",
       "    <tr>\n",
       "      <th>50%</th>\n",
       "      <td>3.000000</td>\n",
       "      <td>4.000000</td>\n",
       "      <td>5.000000</td>\n",
       "    </tr>\n",
       "    <tr>\n",
       "      <th>75%</th>\n",
       "      <td>5.000000</td>\n",
       "      <td>6.000000</td>\n",
       "      <td>7.000000</td>\n",
       "    </tr>\n",
       "    <tr>\n",
       "      <th>max</th>\n",
       "      <td>7.000000</td>\n",
       "      <td>8.000000</td>\n",
       "      <td>9.000000</td>\n",
       "    </tr>\n",
       "  </tbody>\n",
       "</table>\n",
       "</div>"
      ],
      "text/plain": [
       "           col1      col2      col3\n",
       "count  3.000000  3.000000  3.000000\n",
       "mean   3.333333  4.333333  5.333333\n",
       "std    3.511885  3.511885  3.511885\n",
       "min    0.000000  1.000000  2.000000\n",
       "25%    1.500000  2.500000  3.500000\n",
       "50%    3.000000  4.000000  5.000000\n",
       "75%    5.000000  6.000000  7.000000\n",
       "max    7.000000  8.000000  9.000000"
      ]
     },
     "execution_count": 7,
     "metadata": {},
     "output_type": "execute_result"
    }
   ],
   "source": [
    "df = _\n",
    "df.describe()"
   ]
  },
  {
   "cell_type": "markdown",
   "metadata": {},
   "source": [
    "4. The method we described is useful in an interactive session. If you want to use the same magic in multiple notebooks, or if you want to distribute it, you need to create an **IPython extension** that implements your custom magic command. Let's show how to do that. The first step is to create a Python script (`csvmagic.py` here) that implements the magic."
   ]
  },
  {
   "cell_type": "code",
   "execution_count": 16,
   "metadata": {
    "collapsed": false
   },
   "outputs": [
    {
     "name": "stdout",
     "output_type": "stream",
     "text": [
      "Writing /Users/sohei/.ipython/extensions/csvmagic.py\n"
     ]
    }
   ],
   "source": [
    "%%writefile ~/.ipython/extensions/csvmagic.py\n",
    "import pandas as pd\n",
    "#from StringIO import StringIO  # Python 2\n",
    "from io import StringIO  # Python 3\n",
    "\n",
    "def csv(line, cell):\n",
    "    sio = StringIO(cell)\n",
    "    return pd.read_csv(sio)\n",
    "\n",
    "def load_ipython_extension(ipython):\n",
    "    \"\"\"This function is called when the extension is loaded.\n",
    "    It accepts an IPython InteractiveShell instance.\n",
    "    We can register the magic with the `register_magic_function`\n",
    "    method of the shell instance.\"\"\"\n",
    "    ipython.register_magic_function(csv, 'cell')"
   ]
  },
  {
   "cell_type": "markdown",
   "metadata": {},
   "source": [
    "5. Once the extension is created, we need to import it in the IPython session. The `%load_ext` magic command takes the name of a Python module and imports it, calling immediately `load_ipython_extension`. Here, loading this extension automatically registers our magic function `%%csv`. The Python module needs to be importable. Here, it is in the current directory. In other situations, it has to be in the Python path. It can also be stored in `~\\.ipython\\extensions` which is automatically put in the Python path."
   ]
  },
  {
   "cell_type": "code",
   "execution_count": 9,
   "metadata": {
    "collapsed": false
   },
   "outputs": [],
   "source": [
    "%load_ext csvmagic"
   ]
  },
  {
   "cell_type": "code",
   "execution_count": 10,
   "metadata": {
    "collapsed": false
   },
   "outputs": [
    {
     "data": {
      "text/html": [
       "<div>\n",
       "<table border=\"1\" class=\"dataframe\">\n",
       "  <thead>\n",
       "    <tr style=\"text-align: right;\">\n",
       "      <th></th>\n",
       "      <th>col1</th>\n",
       "      <th>col2</th>\n",
       "      <th>col3</th>\n",
       "    </tr>\n",
       "  </thead>\n",
       "  <tbody>\n",
       "    <tr>\n",
       "      <th>0</th>\n",
       "      <td>0</td>\n",
       "      <td>1</td>\n",
       "      <td>2</td>\n",
       "    </tr>\n",
       "    <tr>\n",
       "      <th>1</th>\n",
       "      <td>3</td>\n",
       "      <td>4</td>\n",
       "      <td>5</td>\n",
       "    </tr>\n",
       "    <tr>\n",
       "      <th>2</th>\n",
       "      <td>7</td>\n",
       "      <td>8</td>\n",
       "      <td>9</td>\n",
       "    </tr>\n",
       "  </tbody>\n",
       "</table>\n",
       "</div>"
      ],
      "text/plain": [
       "   col1  col2  col3\n",
       "0     0     1     2\n",
       "1     3     4     5\n",
       "2     7     8     9"
      ]
     },
     "execution_count": 10,
     "metadata": {},
     "output_type": "execute_result"
    }
   ],
   "source": [
    "%%csv\n",
    "col1,col2,col3\n",
    "0,1,2\n",
    "3,4,5\n",
    "7,8,9"
   ]
  },
  {
   "cell_type": "markdown",
   "metadata": {},
   "source": [
    "Finally, to ensure that this magic is automatically defined in our IPython profile, we can instruct IPython to load this extension at startup. To do this, let's open the file `~/.ipython/profile_default/ipython_config.py` and let's put `'csvmagic'` in the `c.InteractiveShellApp.extensions` list. The `csvmagic` module needs to be importable. It is common to create a *Python package* implementing an IPython extension, which itself defines custom magic commands."
   ]
  },
  {
   "cell_type": "markdown",
   "metadata": {},
   "source": [
    "> You'll find all the explanations, figures, references, and much more in the book (to be released later this summer).\n",
    "\n",
    "> [IPython Cookbook](http://ipython-books.github.io/), by [Cyrille Rossant](http://cyrille.rossant.net), Packt Publishing, 2014 (500 pages)."
   ]
  },
  {
   "cell_type": "code",
   "execution_count": 12,
   "metadata": {
    "collapsed": false
   },
   "outputs": [],
   "source": [
    "shell = get_ipython()"
   ]
  },
  {
   "cell_type": "code",
   "execution_count": 13,
   "metadata": {
    "collapsed": false
   },
   "outputs": [
    {
     "data": {
      "text/plain": [
       "{'In': ['',\n",
       "  'from IPython.core.magic import (register_line_magic, \\n                                register_cell_magic)',\n",
       "  '@register_line_magic\\ndef hello(line):\\n    if line == \\'french\\':\\n        print(\"Salut tout le monde!\")\\n    else:\\n        print(\"Hello world!\")',\n",
       "  \"get_ipython().magic('hello')\",\n",
       "  \"get_ipython().magic('hello french')\",\n",
       "  \"import pandas as pd\\n#from StringIO import StringIO  # Python 2\\nfrom io import StringIO  # Python 3\\n\\n@register_cell_magic\\ndef csv(line, cell):\\n    # We create a string buffer containing the\\n    # contents of the cell.\\n    sio = StringIO(cell)\\n    # We use Pandas' read_csv function to parse\\n    # the CSV string.\\n    return pd.read_csv(sio)\",\n",
       "  \"get_ipython().run_cell_magic('csv', '', 'col1,col2,col3\\\\n0,1,2\\\\n3,4,5\\\\n7,8,9')\",\n",
       "  'df = _\\ndf.describe()',\n",
       "  'get_ipython().run_cell_magic(\\'writefile\\', \\'csvmagic.py\\', \\'import pandas as pd\\\\n#from StringIO import StringIO  # Python 2\\\\nfrom io import StringIO  # Python 3\\\\n\\\\ndef csv(line, cell):\\\\n    sio = StringIO(cell)\\\\n    return pd.read_csv(sio)\\\\n\\\\ndef load_ipython_extension(ipython):\\\\n    \"\"\"This function is called when the extension is loaded.\\\\n    It accepts an IPython InteractiveShell instance.\\\\n    We can register the magic with the `register_magic_function`\\\\n    method of the shell instance.\"\"\"\\\\n    ipython.register_magic_function(csv, \\\\\\'cell\\\\\\')\\')',\n",
       "  \"get_ipython().magic('load_ext csvmagic')\",\n",
       "  \"get_ipython().run_cell_magic('csv', '', 'col1,col2,col3\\\\n0,1,2\\\\n3,4,5\\\\n7,8,9')\",\n",
       "  'get_ipython()',\n",
       "  'shell = get_ipython()',\n",
       "  'shell.user_ns'],\n",
       " 'Out': {6:    col1  col2  col3\n",
       "  0     0     1     2\n",
       "  1     3     4     5\n",
       "  2     7     8     9, 7:            col1      col2      col3\n",
       "  count  3.000000  3.000000  3.000000\n",
       "  mean   3.333333  4.333333  5.333333\n",
       "  std    3.511885  3.511885  3.511885\n",
       "  min    0.000000  1.000000  2.000000\n",
       "  25%    1.500000  2.500000  3.500000\n",
       "  50%    3.000000  4.000000  5.000000\n",
       "  75%    5.000000  6.000000  7.000000\n",
       "  max    7.000000  8.000000  9.000000, 10:    col1  col2  col3\n",
       "  0     0     1     2\n",
       "  1     3     4     5\n",
       "  2     7     8     9, 11: <ipykernel.zmqshell.ZMQInteractiveShell at 0x1045aca20>},\n",
       " 'StringIO': _io.StringIO,\n",
       " '_': <ipykernel.zmqshell.ZMQInteractiveShell at 0x1045aca20>,\n",
       " '_10':    col1  col2  col3\n",
       " 0     0     1     2\n",
       " 1     3     4     5\n",
       " 2     7     8     9,\n",
       " '_11': <ipykernel.zmqshell.ZMQInteractiveShell at 0x1045aca20>,\n",
       " '_6':    col1  col2  col3\n",
       " 0     0     1     2\n",
       " 1     3     4     5\n",
       " 2     7     8     9,\n",
       " '_7':            col1      col2      col3\n",
       " count  3.000000  3.000000  3.000000\n",
       " mean   3.333333  4.333333  5.333333\n",
       " std    3.511885  3.511885  3.511885\n",
       " min    0.000000  1.000000  2.000000\n",
       " 25%    1.500000  2.500000  3.500000\n",
       " 50%    3.000000  4.000000  5.000000\n",
       " 75%    5.000000  6.000000  7.000000\n",
       " max    7.000000  8.000000  9.000000,\n",
       " '__':    col1  col2  col3\n",
       " 0     0     1     2\n",
       " 1     3     4     5\n",
       " 2     7     8     9,\n",
       " '___':            col1      col2      col3\n",
       " count  3.000000  3.000000  3.000000\n",
       " mean   3.333333  4.333333  5.333333\n",
       " std    3.511885  3.511885  3.511885\n",
       " min    0.000000  1.000000  2.000000\n",
       " 25%    1.500000  2.500000  3.500000\n",
       " 50%    3.000000  4.000000  5.000000\n",
       " 75%    5.000000  6.000000  7.000000\n",
       " max    7.000000  8.000000  9.000000,\n",
       " '__builtin__': <module 'builtins' (built-in)>,\n",
       " '__builtins__': <module 'builtins' (built-in)>,\n",
       " '__doc__': 'Automatically created module for IPython interactive environment',\n",
       " '__loader__': None,\n",
       " '__name__': '__main__',\n",
       " '__package__': None,\n",
       " '__spec__': None,\n",
       " '_dh': ['/Users/sohei/Documents/python/cookbook-code/notebooks/chapter01_basic'],\n",
       " '_i': 'shell = get_ipython()',\n",
       " '_i1': 'from IPython.core.magic import (register_line_magic, \\n                                register_cell_magic)',\n",
       " '_i10': '%%csv\\ncol1,col2,col3\\n0,1,2\\n3,4,5\\n7,8,9',\n",
       " '_i11': 'get_ipython()',\n",
       " '_i12': 'shell = get_ipython()',\n",
       " '_i13': 'shell.user_ns',\n",
       " '_i2': '@register_line_magic\\ndef hello(line):\\n    if line == \\'french\\':\\n        print(\"Salut tout le monde!\")\\n    else:\\n        print(\"Hello world!\")',\n",
       " '_i3': '%hello',\n",
       " '_i4': '%hello french',\n",
       " '_i5': \"import pandas as pd\\n#from StringIO import StringIO  # Python 2\\nfrom io import StringIO  # Python 3\\n\\n@register_cell_magic\\ndef csv(line, cell):\\n    # We create a string buffer containing the\\n    # contents of the cell.\\n    sio = StringIO(cell)\\n    # We use Pandas' read_csv function to parse\\n    # the CSV string.\\n    return pd.read_csv(sio)\",\n",
       " '_i6': '%%csv\\ncol1,col2,col3\\n0,1,2\\n3,4,5\\n7,8,9',\n",
       " '_i7': 'df = _\\ndf.describe()',\n",
       " '_i8': '%%writefile csvmagic.py\\nimport pandas as pd\\n#from StringIO import StringIO  # Python 2\\nfrom io import StringIO  # Python 3\\n\\ndef csv(line, cell):\\n    sio = StringIO(cell)\\n    return pd.read_csv(sio)\\n\\ndef load_ipython_extension(ipython):\\n    \"\"\"This function is called when the extension is loaded.\\n    It accepts an IPython InteractiveShell instance.\\n    We can register the magic with the `register_magic_function`\\n    method of the shell instance.\"\"\"\\n    ipython.register_magic_function(csv, \\'cell\\')',\n",
       " '_i9': '%load_ext csvmagic',\n",
       " '_ih': ['',\n",
       "  'from IPython.core.magic import (register_line_magic, \\n                                register_cell_magic)',\n",
       "  '@register_line_magic\\ndef hello(line):\\n    if line == \\'french\\':\\n        print(\"Salut tout le monde!\")\\n    else:\\n        print(\"Hello world!\")',\n",
       "  \"get_ipython().magic('hello')\",\n",
       "  \"get_ipython().magic('hello french')\",\n",
       "  \"import pandas as pd\\n#from StringIO import StringIO  # Python 2\\nfrom io import StringIO  # Python 3\\n\\n@register_cell_magic\\ndef csv(line, cell):\\n    # We create a string buffer containing the\\n    # contents of the cell.\\n    sio = StringIO(cell)\\n    # We use Pandas' read_csv function to parse\\n    # the CSV string.\\n    return pd.read_csv(sio)\",\n",
       "  \"get_ipython().run_cell_magic('csv', '', 'col1,col2,col3\\\\n0,1,2\\\\n3,4,5\\\\n7,8,9')\",\n",
       "  'df = _\\ndf.describe()',\n",
       "  'get_ipython().run_cell_magic(\\'writefile\\', \\'csvmagic.py\\', \\'import pandas as pd\\\\n#from StringIO import StringIO  # Python 2\\\\nfrom io import StringIO  # Python 3\\\\n\\\\ndef csv(line, cell):\\\\n    sio = StringIO(cell)\\\\n    return pd.read_csv(sio)\\\\n\\\\ndef load_ipython_extension(ipython):\\\\n    \"\"\"This function is called when the extension is loaded.\\\\n    It accepts an IPython InteractiveShell instance.\\\\n    We can register the magic with the `register_magic_function`\\\\n    method of the shell instance.\"\"\"\\\\n    ipython.register_magic_function(csv, \\\\\\'cell\\\\\\')\\')',\n",
       "  \"get_ipython().magic('load_ext csvmagic')\",\n",
       "  \"get_ipython().run_cell_magic('csv', '', 'col1,col2,col3\\\\n0,1,2\\\\n3,4,5\\\\n7,8,9')\",\n",
       "  'get_ipython()',\n",
       "  'shell = get_ipython()',\n",
       "  'shell.user_ns'],\n",
       " '_ii': 'get_ipython()',\n",
       " '_iii': '%%csv\\ncol1,col2,col3\\n0,1,2\\n3,4,5\\n7,8,9',\n",
       " '_oh': {6:    col1  col2  col3\n",
       "  0     0     1     2\n",
       "  1     3     4     5\n",
       "  2     7     8     9, 7:            col1      col2      col3\n",
       "  count  3.000000  3.000000  3.000000\n",
       "  mean   3.333333  4.333333  5.333333\n",
       "  std    3.511885  3.511885  3.511885\n",
       "  min    0.000000  1.000000  2.000000\n",
       "  25%    1.500000  2.500000  3.500000\n",
       "  50%    3.000000  4.000000  5.000000\n",
       "  75%    5.000000  6.000000  7.000000\n",
       "  max    7.000000  8.000000  9.000000, 10:    col1  col2  col3\n",
       "  0     0     1     2\n",
       "  1     3     4     5\n",
       "  2     7     8     9, 11: <ipykernel.zmqshell.ZMQInteractiveShell at 0x1045aca20>},\n",
       " '_sh': <module 'IPython.core.shadowns' from '/Users/sohei/.pyenv/versions/anaconda3-4.3.1/envs/py3.5/lib/python3.5/site-packages/IPython/core/shadowns.py'>,\n",
       " 'csv': <function __main__.csv>,\n",
       " 'df':    col1  col2  col3\n",
       " 0     0     1     2\n",
       " 1     3     4     5\n",
       " 2     7     8     9,\n",
       " 'exit': <IPython.core.autocall.ZMQExitAutocall at 0x1045dd978>,\n",
       " 'get_ipython': <bound method InteractiveShell.get_ipython of <ipykernel.zmqshell.ZMQInteractiveShell object at 0x1045aca20>>,\n",
       " 'hello': <function __main__.hello>,\n",
       " 'pd': <module 'pandas' from '/Users/sohei/.pyenv/versions/anaconda3-4.3.1/envs/py3.5/lib/python3.5/site-packages/pandas/__init__.py'>,\n",
       " 'quit': <IPython.core.autocall.ZMQExitAutocall at 0x1045dd978>,\n",
       " 'register_cell_magic': <function IPython.core.magic._function_magic_marker.<locals>.magic_deco>,\n",
       " 'register_line_magic': <function IPython.core.magic._function_magic_marker.<locals>.magic_deco>,\n",
       " 'shell': <ipykernel.zmqshell.ZMQInteractiveShell at 0x1045aca20>}"
      ]
     },
     "execution_count": 13,
     "metadata": {},
     "output_type": "execute_result"
    }
   ],
   "source": [
    "shell.user_ns"
   ]
  },
  {
   "cell_type": "code",
   "execution_count": null,
   "metadata": {
    "collapsed": true
   },
   "outputs": [],
   "source": []
  }
 ],
 "metadata": {
  "kernelspec": {
   "display_name": "Python 3",
   "language": "python",
   "name": "python3"
  },
  "language_info": {
   "codemirror_mode": {
    "name": "ipython",
    "version": 3
   },
   "file_extension": ".py",
   "mimetype": "text/x-python",
   "name": "python",
   "nbconvert_exporter": "python",
   "pygments_lexer": "ipython3",
   "version": "3.5.2"
  },
  "latex_envs": {
   "LaTeX_envs_menu_present": true,
   "autocomplete": true,
   "bibliofile": "biblio.bib",
   "cite_by": "apalike",
   "current_citInitial": 1,
   "eqLabelWithNumbers": true,
   "eqNumInitial": 1,
   "hotkeys": {
    "equation": "Ctrl-E",
    "itemize": "Ctrl-I"
   },
   "labels_anchors": false,
   "latex_user_defs": false,
   "report_style_numbering": false,
   "user_envs_cfg": false
  }
 },
 "nbformat": 4,
 "nbformat_minor": 0
}
